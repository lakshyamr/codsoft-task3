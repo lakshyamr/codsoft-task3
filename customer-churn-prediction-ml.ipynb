{
 "cells": [
  {
   "cell_type": "code",
   "execution_count": 1,
   "id": "4109a5bd",
   "metadata": {
    "_cell_guid": "b1076dfc-b9ad-4769-8c92-a6c4dae69d19",
    "_uuid": "8f2839f25d086af736a60e9eeb907d3b93b6e0e5",
    "execution": {
     "iopub.execute_input": "2023-12-20T12:23:42.445572Z",
     "iopub.status.busy": "2023-12-20T12:23:42.444929Z",
     "iopub.status.idle": "2023-12-20T12:23:42.881599Z",
     "shell.execute_reply": "2023-12-20T12:23:42.880058Z"
    },
    "papermill": {
     "duration": 0.455353,
     "end_time": "2023-12-20T12:23:42.884963",
     "exception": false,
     "start_time": "2023-12-20T12:23:42.429610",
     "status": "completed"
    },
    "tags": []
   },
   "outputs": [
    {
     "name": "stdout",
     "output_type": "stream",
     "text": [
      "/kaggle/input/customer/Churn_Modelling.csv\n"
     ]
    }
   ],
   "source": [
    "# This Python 3 environment comes with many helpful analytics libraries installed\n",
    "# It is defined by the kaggle/python Docker image: https://github.com/kaggle/docker-python\n",
    "# For example, here's several helpful packages to load\n",
    "\n",
    "import numpy as np # linear algebra\n",
    "import pandas as pd # data processing, CSV file I/O (e.g. pd.read_csv)\n",
    "\n",
    "# Input data files are available in the read-only \"../input/\" directory\n",
    "# For example, running this (by clicking run or pressing Shift+Enter) will list all files under the input directory\n",
    "\n",
    "import os\n",
    "for dirname, _, filenames in os.walk('/kaggle/input'):\n",
    "    for filename in filenames:\n",
    "        print(os.path.join(dirname, filename))\n",
    "\n",
    "# You can write up to 20GB to the current directory (/kaggle/working/) that gets preserved as output when you create a version using \"Save & Run All\" \n",
    "# You can also write temporary files to /kaggle/temp/, but they won't be saved outside of the current session"
   ]
  },
  {
   "cell_type": "markdown",
   "id": "0b174130",
   "metadata": {
    "papermill": {
     "duration": 0.011814,
     "end_time": "2023-12-20T12:23:42.909134",
     "exception": false,
     "start_time": "2023-12-20T12:23:42.897320",
     "status": "completed"
    },
    "tags": []
   },
   "source": [
    "1.Library"
   ]
  },
  {
   "cell_type": "code",
   "execution_count": 2,
   "id": "b43a6fed",
   "metadata": {
    "execution": {
     "iopub.execute_input": "2023-12-20T12:23:42.935737Z",
     "iopub.status.busy": "2023-12-20T12:23:42.934461Z",
     "iopub.status.idle": "2023-12-20T12:23:44.785741Z",
     "shell.execute_reply": "2023-12-20T12:23:44.784532Z"
    },
    "papermill": {
     "duration": 1.867357,
     "end_time": "2023-12-20T12:23:44.788548",
     "exception": false,
     "start_time": "2023-12-20T12:23:42.921191",
     "status": "completed"
    },
    "tags": []
   },
   "outputs": [],
   "source": [
    "import pandas as pd\n",
    "import numpy as np\n",
    "import matplotlib.pyplot as plt\n",
    "import seaborn as sns\n",
    "\n",
    "from sklearn.model_selection import train_test_split\n",
    "from sklearn.linear_model import LogisticRegression\n",
    "from sklearn.metrics import accuracy_score, classification_report\n",
    "from sklearn.ensemble import RandomForestClassifier\n",
    "from sklearn.preprocessing import LabelEncoder\n",
    "\n",
    "\n",
    "import xgboost as xgb\n",
    "\n",
    "import warnings\n",
    "warnings.filterwarnings('ignore')"
   ]
  },
  {
   "cell_type": "markdown",
   "id": "f4db3402",
   "metadata": {
    "papermill": {
     "duration": 0.012135,
     "end_time": "2023-12-20T12:23:44.813147",
     "exception": false,
     "start_time": "2023-12-20T12:23:44.801012",
     "status": "completed"
    },
    "tags": []
   },
   "source": [
    "2.Import data"
   ]
  },
  {
   "cell_type": "code",
   "execution_count": 3,
   "id": "5e4ff383",
   "metadata": {
    "execution": {
     "iopub.execute_input": "2023-12-20T12:23:44.839361Z",
     "iopub.status.busy": "2023-12-20T12:23:44.838427Z",
     "iopub.status.idle": "2023-12-20T12:23:44.912393Z",
     "shell.execute_reply": "2023-12-20T12:23:44.911394Z"
    },
    "papermill": {
     "duration": 0.089715,
     "end_time": "2023-12-20T12:23:44.914872",
     "exception": false,
     "start_time": "2023-12-20T12:23:44.825157",
     "status": "completed"
    },
    "tags": []
   },
   "outputs": [
    {
     "data": {
      "text/html": [
       "<div>\n",
       "<style scoped>\n",
       "    .dataframe tbody tr th:only-of-type {\n",
       "        vertical-align: middle;\n",
       "    }\n",
       "\n",
       "    .dataframe tbody tr th {\n",
       "        vertical-align: top;\n",
       "    }\n",
       "\n",
       "    .dataframe thead th {\n",
       "        text-align: right;\n",
       "    }\n",
       "</style>\n",
       "<table border=\"1\" class=\"dataframe\">\n",
       "  <thead>\n",
       "    <tr style=\"text-align: right;\">\n",
       "      <th></th>\n",
       "      <th>RowNumber</th>\n",
       "      <th>CustomerId</th>\n",
       "      <th>Surname</th>\n",
       "      <th>CreditScore</th>\n",
       "      <th>Geography</th>\n",
       "      <th>Gender</th>\n",
       "      <th>Age</th>\n",
       "      <th>Tenure</th>\n",
       "      <th>Balance</th>\n",
       "      <th>NumOfProducts</th>\n",
       "      <th>HasCrCard</th>\n",
       "      <th>IsActiveMember</th>\n",
       "      <th>EstimatedSalary</th>\n",
       "      <th>Exited</th>\n",
       "    </tr>\n",
       "  </thead>\n",
       "  <tbody>\n",
       "    <tr>\n",
       "      <th>0</th>\n",
       "      <td>1</td>\n",
       "      <td>15634602</td>\n",
       "      <td>Hargrave</td>\n",
       "      <td>619</td>\n",
       "      <td>France</td>\n",
       "      <td>Female</td>\n",
       "      <td>42</td>\n",
       "      <td>2</td>\n",
       "      <td>0.00</td>\n",
       "      <td>1</td>\n",
       "      <td>1</td>\n",
       "      <td>1</td>\n",
       "      <td>101348.88</td>\n",
       "      <td>1</td>\n",
       "    </tr>\n",
       "    <tr>\n",
       "      <th>1</th>\n",
       "      <td>2</td>\n",
       "      <td>15647311</td>\n",
       "      <td>Hill</td>\n",
       "      <td>608</td>\n",
       "      <td>Spain</td>\n",
       "      <td>Female</td>\n",
       "      <td>41</td>\n",
       "      <td>1</td>\n",
       "      <td>83807.86</td>\n",
       "      <td>1</td>\n",
       "      <td>0</td>\n",
       "      <td>1</td>\n",
       "      <td>112542.58</td>\n",
       "      <td>0</td>\n",
       "    </tr>\n",
       "    <tr>\n",
       "      <th>2</th>\n",
       "      <td>3</td>\n",
       "      <td>15619304</td>\n",
       "      <td>Onio</td>\n",
       "      <td>502</td>\n",
       "      <td>France</td>\n",
       "      <td>Female</td>\n",
       "      <td>42</td>\n",
       "      <td>8</td>\n",
       "      <td>159660.80</td>\n",
       "      <td>3</td>\n",
       "      <td>1</td>\n",
       "      <td>0</td>\n",
       "      <td>113931.57</td>\n",
       "      <td>1</td>\n",
       "    </tr>\n",
       "    <tr>\n",
       "      <th>3</th>\n",
       "      <td>4</td>\n",
       "      <td>15701354</td>\n",
       "      <td>Boni</td>\n",
       "      <td>699</td>\n",
       "      <td>France</td>\n",
       "      <td>Female</td>\n",
       "      <td>39</td>\n",
       "      <td>1</td>\n",
       "      <td>0.00</td>\n",
       "      <td>2</td>\n",
       "      <td>0</td>\n",
       "      <td>0</td>\n",
       "      <td>93826.63</td>\n",
       "      <td>0</td>\n",
       "    </tr>\n",
       "    <tr>\n",
       "      <th>4</th>\n",
       "      <td>5</td>\n",
       "      <td>15737888</td>\n",
       "      <td>Mitchell</td>\n",
       "      <td>850</td>\n",
       "      <td>Spain</td>\n",
       "      <td>Female</td>\n",
       "      <td>43</td>\n",
       "      <td>2</td>\n",
       "      <td>125510.82</td>\n",
       "      <td>1</td>\n",
       "      <td>1</td>\n",
       "      <td>1</td>\n",
       "      <td>79084.10</td>\n",
       "      <td>0</td>\n",
       "    </tr>\n",
       "  </tbody>\n",
       "</table>\n",
       "</div>"
      ],
      "text/plain": [
       "   RowNumber  CustomerId   Surname  CreditScore Geography  Gender  Age  \\\n",
       "0          1    15634602  Hargrave          619    France  Female   42   \n",
       "1          2    15647311      Hill          608     Spain  Female   41   \n",
       "2          3    15619304      Onio          502    France  Female   42   \n",
       "3          4    15701354      Boni          699    France  Female   39   \n",
       "4          5    15737888  Mitchell          850     Spain  Female   43   \n",
       "\n",
       "   Tenure    Balance  NumOfProducts  HasCrCard  IsActiveMember  \\\n",
       "0       2       0.00              1          1               1   \n",
       "1       1   83807.86              1          0               1   \n",
       "2       8  159660.80              3          1               0   \n",
       "3       1       0.00              2          0               0   \n",
       "4       2  125510.82              1          1               1   \n",
       "\n",
       "   EstimatedSalary  Exited  \n",
       "0        101348.88       1  \n",
       "1        112542.58       0  \n",
       "2        113931.57       1  \n",
       "3         93826.63       0  \n",
       "4         79084.10       0  "
      ]
     },
     "execution_count": 3,
     "metadata": {},
     "output_type": "execute_result"
    }
   ],
   "source": [
    "df = pd.read_csv('/kaggle/input/customer/Churn_Modelling.csv')\n",
    "df.head()"
   ]
  },
  {
   "cell_type": "code",
   "execution_count": 4,
   "id": "457aecb0",
   "metadata": {
    "execution": {
     "iopub.execute_input": "2023-12-20T12:23:44.942509Z",
     "iopub.status.busy": "2023-12-20T12:23:44.941641Z",
     "iopub.status.idle": "2023-12-20T12:23:44.947402Z",
     "shell.execute_reply": "2023-12-20T12:23:44.946411Z"
    },
    "papermill": {
     "duration": 0.022431,
     "end_time": "2023-12-20T12:23:44.950156",
     "exception": false,
     "start_time": "2023-12-20T12:23:44.927725",
     "status": "completed"
    },
    "tags": []
   },
   "outputs": [
    {
     "name": "stdout",
     "output_type": "stream",
     "text": [
      "Index(['RowNumber', 'CustomerId', 'Surname', 'CreditScore', 'Geography',\n",
      "       'Gender', 'Age', 'Tenure', 'Balance', 'NumOfProducts', 'HasCrCard',\n",
      "       'IsActiveMember', 'EstimatedSalary', 'Exited'],\n",
      "      dtype='object')\n"
     ]
    }
   ],
   "source": [
    "print(df.columns)"
   ]
  },
  {
   "cell_type": "code",
   "execution_count": 5,
   "id": "ab380a45",
   "metadata": {
    "execution": {
     "iopub.execute_input": "2023-12-20T12:23:44.977297Z",
     "iopub.status.busy": "2023-12-20T12:23:44.976902Z",
     "iopub.status.idle": "2023-12-20T12:23:44.989107Z",
     "shell.execute_reply": "2023-12-20T12:23:44.988010Z"
    },
    "papermill": {
     "duration": 0.028772,
     "end_time": "2023-12-20T12:23:44.991513",
     "exception": false,
     "start_time": "2023-12-20T12:23:44.962741",
     "status": "completed"
    },
    "tags": []
   },
   "outputs": [],
   "source": [
    "# Drop Columns\n",
    "df.drop(['RowNumber', 'CustomerId', 'Surname'], axis=1, inplace=True)"
   ]
  },
  {
   "cell_type": "code",
   "execution_count": 6,
   "id": "42b90f58",
   "metadata": {
    "execution": {
     "iopub.execute_input": "2023-12-20T12:23:45.018631Z",
     "iopub.status.busy": "2023-12-20T12:23:45.017886Z",
     "iopub.status.idle": "2023-12-20T12:23:45.042428Z",
     "shell.execute_reply": "2023-12-20T12:23:45.041402Z"
    },
    "papermill": {
     "duration": 0.040657,
     "end_time": "2023-12-20T12:23:45.044804",
     "exception": false,
     "start_time": "2023-12-20T12:23:45.004147",
     "status": "completed"
    },
    "tags": []
   },
   "outputs": [
    {
     "name": "stdout",
     "output_type": "stream",
     "text": [
      "<class 'pandas.core.frame.DataFrame'>\n",
      "RangeIndex: 10000 entries, 0 to 9999\n",
      "Data columns (total 11 columns):\n",
      " #   Column           Non-Null Count  Dtype  \n",
      "---  ------           --------------  -----  \n",
      " 0   CreditScore      10000 non-null  int64  \n",
      " 1   Geography        10000 non-null  object \n",
      " 2   Gender           10000 non-null  object \n",
      " 3   Age              10000 non-null  int64  \n",
      " 4   Tenure           10000 non-null  int64  \n",
      " 5   Balance          10000 non-null  float64\n",
      " 6   NumOfProducts    10000 non-null  int64  \n",
      " 7   HasCrCard        10000 non-null  int64  \n",
      " 8   IsActiveMember   10000 non-null  int64  \n",
      " 9   EstimatedSalary  10000 non-null  float64\n",
      " 10  Exited           10000 non-null  int64  \n",
      "dtypes: float64(2), int64(7), object(2)\n",
      "memory usage: 859.5+ KB\n"
     ]
    }
   ],
   "source": [
    "#Check Missing Value\n",
    "df.info()"
   ]
  },
  {
   "cell_type": "markdown",
   "id": "ce2621d6",
   "metadata": {
    "papermill": {
     "duration": 0.012678,
     "end_time": "2023-12-20T12:23:45.070606",
     "exception": false,
     "start_time": "2023-12-20T12:23:45.057928",
     "status": "completed"
    },
    "tags": []
   },
   "source": [
    "3.Exploration data"
   ]
  },
  {
   "cell_type": "code",
   "execution_count": 7,
   "id": "40d60c4e",
   "metadata": {
    "execution": {
     "iopub.execute_input": "2023-12-20T12:23:45.097894Z",
     "iopub.status.busy": "2023-12-20T12:23:45.097179Z",
     "iopub.status.idle": "2023-12-20T12:23:45.135021Z",
     "shell.execute_reply": "2023-12-20T12:23:45.133670Z"
    },
    "papermill": {
     "duration": 0.054186,
     "end_time": "2023-12-20T12:23:45.137459",
     "exception": false,
     "start_time": "2023-12-20T12:23:45.083273",
     "status": "completed"
    },
    "tags": []
   },
   "outputs": [
    {
     "name": "stdout",
     "output_type": "stream",
     "text": [
      "        CreditScore           Age        Tenure        Balance  NumOfProducts  \\\n",
      "count  10000.000000  10000.000000  10000.000000   10000.000000   10000.000000   \n",
      "mean     650.528800     38.921800      5.012800   76485.889288       1.530200   \n",
      "std       96.653299     10.487806      2.892174   62397.405202       0.581654   \n",
      "min      350.000000     18.000000      0.000000       0.000000       1.000000   \n",
      "25%      584.000000     32.000000      3.000000       0.000000       1.000000   \n",
      "50%      652.000000     37.000000      5.000000   97198.540000       1.000000   \n",
      "75%      718.000000     44.000000      7.000000  127644.240000       2.000000   \n",
      "max      850.000000     92.000000     10.000000  250898.090000       4.000000   \n",
      "\n",
      "         HasCrCard  IsActiveMember  EstimatedSalary        Exited  \n",
      "count  10000.00000    10000.000000     10000.000000  10000.000000  \n",
      "mean       0.70550        0.515100    100090.239881      0.203700  \n",
      "std        0.45584        0.499797     57510.492818      0.402769  \n",
      "min        0.00000        0.000000        11.580000      0.000000  \n",
      "25%        0.00000        0.000000     51002.110000      0.000000  \n",
      "50%        1.00000        1.000000    100193.915000      0.000000  \n",
      "75%        1.00000        1.000000    149388.247500      0.000000  \n",
      "max        1.00000        1.000000    199992.480000      1.000000  \n"
     ]
    }
   ],
   "source": [
    "print(df.describe())"
   ]
  },
  {
   "cell_type": "markdown",
   "id": "288a407c",
   "metadata": {
    "papermill": {
     "duration": 0.012512,
     "end_time": "2023-12-20T12:23:45.163109",
     "exception": false,
     "start_time": "2023-12-20T12:23:45.150597",
     "status": "completed"
    },
    "tags": []
   },
   "source": [
    "3.1 Distribution visualization"
   ]
  },
  {
   "cell_type": "code",
   "execution_count": 8,
   "id": "d2a6565a",
   "metadata": {
    "execution": {
     "iopub.execute_input": "2023-12-20T12:23:45.190870Z",
     "iopub.status.busy": "2023-12-20T12:23:45.190132Z",
     "iopub.status.idle": "2023-12-20T12:23:45.548729Z",
     "shell.execute_reply": "2023-12-20T12:23:45.547546Z"
    },
    "papermill": {
     "duration": 0.375127,
     "end_time": "2023-12-20T12:23:45.551193",
     "exception": false,
     "start_time": "2023-12-20T12:23:45.176066",
     "status": "completed"
    },
    "tags": []
   },
   "outputs": [
    {
     "data": {
      "image/png": "[encoded data removed]",
      "text/plain": [
       "<Figure size 640x480 with 1 Axes>"
      ]
     },
     "metadata": {},
     "output_type": "display_data"
    }
   ],
   "source": [
    "# Histogram From variabel Age\n",
    "plt.hist(df['Age'], bins=20)\n",
    "plt.xlabel('Age')\n",
    "plt.ylabel('Count')\n",
    "plt.title('Distribution of Age')\n",
    "plt.show()"
   ]
  },
  {
   "cell_type": "markdown",
   "id": "69b980c8",
   "metadata": {
    "papermill": {
     "duration": 0.012939,
     "end_time": "2023-12-20T12:23:45.577587",
     "exception": false,
     "start_time": "2023-12-20T12:23:45.564648",
     "status": "completed"
    },
    "tags": []
   },
   "source": [
    "From the plot results, it is found that the highest distribution of values is concentrated around the age range of 35-40 years."
   ]
  },
  {
   "cell_type": "code",
   "execution_count": 9,
   "id": "16cbee7f",
   "metadata": {
    "execution": {
     "iopub.execute_input": "2023-12-20T12:23:45.606449Z",
     "iopub.status.busy": "2023-12-20T12:23:45.605667Z",
     "iopub.status.idle": "2023-12-20T12:23:45.874151Z",
     "shell.execute_reply": "2023-12-20T12:23:45.872850Z"
    },
    "papermill": {
     "duration": 0.285916,
     "end_time": "2023-12-20T12:23:45.877114",
     "exception": false,
     "start_time": "2023-12-20T12:23:45.591198",
     "status": "completed"
    },
    "tags": []
   },
   "outputs": [
    {
     "data": {
      "image/png": "[encoded data removed]",
      "text/plain": [
       "<Figure size 800x600 with 1 Axes>"
      ]
     },
     "metadata": {},
     "output_type": "display_data"
    }
   ],
   "source": [
    "# Plot Distribution variabel Geography\n",
    "plt.figure(figsize=(8, 6))\n",
    "sns.countplot(x='Geography', data=df)\n",
    "plt.xlabel('Geography')\n",
    "plt.ylabel('Count')\n",
    "plt.title('Distribution of Geography')\n",
    "plt.show()"
   ]
  },
  {
   "cell_type": "markdown",
   "id": "f75ebe75",
   "metadata": {
    "papermill": {
     "duration": 0.013374,
     "end_time": "2023-12-20T12:23:45.904575",
     "exception": false,
     "start_time": "2023-12-20T12:23:45.891201",
     "status": "completed"
    },
    "tags": []
   },
   "source": [
    "From the plot results, it is found that the highest distribution of values in the \"Geography\" column is in the country of France."
   ]
  },
  {
   "cell_type": "code",
   "execution_count": 10,
   "id": "1903997c",
   "metadata": {
    "execution": {
     "iopub.execute_input": "2023-12-20T12:23:45.934309Z",
     "iopub.status.busy": "2023-12-20T12:23:45.933592Z",
     "iopub.status.idle": "2023-12-20T12:23:46.164101Z",
     "shell.execute_reply": "2023-12-20T12:23:46.162405Z"
    },
    "papermill": {
     "duration": 0.250356,
     "end_time": "2023-12-20T12:23:46.168676",
     "exception": false,
     "start_time": "2023-12-20T12:23:45.918320",
     "status": "completed"
    },
    "tags": []
   },
   "outputs": [
    {
     "data": {
      "image/png": "[encoded data removed]",
      "text/plain": [
       "<Figure size 600x600 with 1 Axes>"
      ]
     },
     "metadata": {},
     "output_type": "display_data"
    }
   ],
   "source": [
    "#Distribution of Gender\n",
    "gender_counts = df['Gender'].value_counts()\n",
    "\n",
    "labels = gender_counts.index\n",
    "sizes = gender_counts.values\n",
    "\n",
    "# Pie plot\n",
    "plt.figure(figsize=(6, 6))\n",
    "plt.pie(sizes, labels=labels, autopct='%1.1f%%', startangle=90)\n",
    "plt.title('Distribution of Gender')\n",
    "plt.axis('equal')\n",
    "plt.legend(title='Gender')\n",
    "\n",
    "plt.show()"
   ]
  },
  {
   "cell_type": "code",
   "execution_count": 11,
   "id": "3bc5fd7f",
   "metadata": {
    "execution": {
     "iopub.execute_input": "2023-12-20T12:23:46.199871Z",
     "iopub.status.busy": "2023-12-20T12:23:46.199187Z",
     "iopub.status.idle": "2023-12-20T12:23:46.376290Z",
     "shell.execute_reply": "2023-12-20T12:23:46.374804Z"
    },
    "papermill": {
     "duration": 0.197514,
     "end_time": "2023-12-20T12:23:46.381046",
     "exception": false,
     "start_time": "2023-12-20T12:23:46.183532",
     "status": "completed"
    },
    "tags": []
   },
   "outputs": [
    {
     "data": {
      "image/png": "[encoded data removed]",
      "text/plain": [
       "<Figure size 640x480 with 1 Axes>"
      ]
     },
     "metadata": {},
     "output_type": "display_data"
    }
   ],
   "source": [
    "# Calculate the count of each category in the \"Exited\" feature\n",
    "exited_counts = df['Exited'].value_counts()\n",
    "\n",
    "labels = exited_counts.index\n",
    "plt.pie(exited_counts, labels=labels, autopct='%1.1f%%', startangle=90)\n",
    "\n",
    "plt.title(\"Distribution of Exited\")\n",
    "plt.legend(title='Exited')\n",
    "plt.show()"
   ]
  },
  {
   "cell_type": "code",
   "execution_count": 12,
   "id": "87aff10b",
   "metadata": {
    "execution": {
     "iopub.execute_input": "2023-12-20T12:23:46.435121Z",
     "iopub.status.busy": "2023-12-20T12:23:46.434725Z",
     "iopub.status.idle": "2023-12-20T12:23:46.446881Z",
     "shell.execute_reply": "2023-12-20T12:23:46.445698Z"
    },
    "papermill": {
     "duration": 0.03565,
     "end_time": "2023-12-20T12:23:46.449323",
     "exception": false,
     "start_time": "2023-12-20T12:23:46.413673",
     "status": "completed"
    },
    "tags": []
   },
   "outputs": [
    {
     "name": "stdout",
     "output_type": "stream",
     "text": [
      "Age\n",
      "18    0.090909\n",
      "19    0.037037\n",
      "20    0.050000\n",
      "21    0.056604\n",
      "22    0.142857\n",
      "        ...   \n",
      "83    0.000000\n",
      "84    0.500000\n",
      "85    0.000000\n",
      "88    0.000000\n",
      "92    0.000000\n",
      "Name: Exited, Length: 70, dtype: float64\n"
     ]
    }
   ],
   "source": [
    "gender_churn = df.groupby('Age')['Exited'].mean()\n",
    "print(gender_churn)"
   ]
  },
  {
   "cell_type": "markdown",
   "id": "65c35a36",
   "metadata": {
    "papermill": {
     "duration": 0.014368,
     "end_time": "2023-12-20T12:23:46.478568",
     "exception": false,
     "start_time": "2023-12-20T12:23:46.464200",
     "status": "completed"
    },
    "tags": []
   },
   "source": [
    "3.3 Feature importance with random forest"
   ]
  },
  {
   "cell_type": "markdown",
   "id": "f5dd1372",
   "metadata": {
    "papermill": {
     "duration": 0.015065,
     "end_time": "2023-12-20T12:23:46.508503",
     "exception": false,
     "start_time": "2023-12-20T12:23:46.493438",
     "status": "completed"
    },
    "tags": []
   },
   "source": []
  },
  {
   "cell_type": "code",
   "execution_count": 13,
   "id": "caebeb63",
   "metadata": {
    "execution": {
     "iopub.execute_input": "2023-12-20T12:23:46.540000Z",
     "iopub.status.busy": "2023-12-20T12:23:46.539576Z",
     "iopub.status.idle": "2023-12-20T12:23:48.265831Z",
     "shell.execute_reply": "2023-12-20T12:23:48.264644Z"
    },
    "papermill": {
     "duration": 1.745433,
     "end_time": "2023-12-20T12:23:48.268719",
     "exception": false,
     "start_time": "2023-12-20T12:23:46.523286",
     "status": "completed"
    },
    "tags": []
   },
   "outputs": [
    {
     "name": "stdout",
     "output_type": "stream",
     "text": [
      "             Feature  Importance\n",
      "1                Age    0.238914\n",
      "7    EstimatedSalary    0.149055\n",
      "0        CreditScore    0.145546\n",
      "3            Balance    0.140569\n",
      "4      NumOfProducts    0.131403\n",
      "2             Tenure    0.080917\n",
      "6     IsActiveMember    0.040104\n",
      "8  Geography_encoded    0.036276\n",
      "5          HasCrCard    0.019416\n",
      "9     Gender_encoded    0.017801\n"
     ]
    }
   ],
   "source": [
    "# Build LabelEncoder\n",
    "label_encoder = LabelEncoder()\n",
    "\n",
    "# Encoding the \"Geography\" and \"Gender\" columns\n",
    "df['Geography_encoded'] = label_encoder.fit_transform(df['Geography'])\n",
    "df['Gender_encoded'] = label_encoder.fit_transform(df['Gender'])\n",
    "\n",
    "# Separating feature and target variables\n",
    "X = df.drop(['Exited', 'Geography', 'Gender'], axis=1)\n",
    "y = df['Exited']\n",
    "\n",
    "# Build Random Forest model\n",
    "model = RandomForestClassifier()\n",
    "model.fit(X, y)\n",
    "\n",
    "# Show feature importance\n",
    "importance = model.feature_importances_\n",
    "feature_names = X.columns\n",
    "feature_importance = pd.DataFrame({'Feature': feature_names, 'Importance': importance})\n",
    "feature_importance = feature_importance.sort_values('Importance', ascending=False)\n",
    "print(feature_importance)"
   ]
  },
  {
   "cell_type": "markdown",
   "id": "1a76e168",
   "metadata": {
    "papermill": {
     "duration": 0.014534,
     "end_time": "2023-12-20T12:23:48.358017",
     "exception": false,
     "start_time": "2023-12-20T12:23:48.343483",
     "status": "completed"
    },
    "tags": []
   },
   "source": [
    "4.Splitting data"
   ]
  },
  {
   "cell_type": "code",
   "execution_count": 14,
   "id": "a60c420e",
   "metadata": {
    "execution": {
     "iopub.execute_input": "2023-12-20T12:23:48.390169Z",
     "iopub.status.busy": "2023-12-20T12:23:48.389393Z",
     "iopub.status.idle": "2023-12-20T12:23:48.407725Z",
     "shell.execute_reply": "2023-12-20T12:23:48.406895Z"
    },
    "papermill": {
     "duration": 0.037286,
     "end_time": "2023-12-20T12:23:48.410145",
     "exception": false,
     "start_time": "2023-12-20T12:23:48.372859",
     "status": "completed"
    },
    "tags": []
   },
   "outputs": [],
   "source": [
    "# Perform label encoding on categorical columns\n",
    "label_encoder = LabelEncoder()\n",
    "df['Geography'] = label_encoder.fit_transform(df['Geography'])\n",
    "df['Gender'] = label_encoder.fit_transform(df['Gender'])\n",
    "\n",
    "# Split the dataframe into features (X) and target (y)\n",
    "X = df.drop('Exited', axis=1)\n",
    "y = df['Exited']\n",
    "\n",
    "# Perform train-test split on the data\n",
    "X_train, X_test, y_train, y_test = train_test_split(X, y, test_size=0.3, random_state=42)"
   ]
  },
  {
   "cell_type": "code",
   "execution_count": 15,
   "id": "2ed62471",
   "metadata": {
    "execution": {
     "iopub.execute_input": "2023-12-20T12:23:48.442135Z",
     "iopub.status.busy": "2023-12-20T12:23:48.441212Z",
     "iopub.status.idle": "2023-12-20T12:23:48.653251Z",
     "shell.execute_reply": "2023-12-20T12:23:48.652412Z"
    },
    "papermill": {
     "duration": 0.23055,
     "end_time": "2023-12-20T12:23:48.655639",
     "exception": false,
     "start_time": "2023-12-20T12:23:48.425089",
     "status": "completed"
    },
    "tags": []
   },
   "outputs": [
    {
     "name": "stdout",
     "output_type": "stream",
     "text": [
      "Accuracy: 0.9631428571428572\n",
      "Accuracy: 0.8593333333333333\n"
     ]
    }
   ],
   "source": [
    "# Train the XGBoost model\n",
    "model = xgb.XGBClassifier()\n",
    "model.fit(X_train, y_train)\n",
    "\n",
    "# Evaluate the model\n",
    "accuracy = model.score(X_train, y_train)\n",
    "print(\"Accuracy:\", accuracy)\n",
    "accuracy = model.score(X_test, y_test)\n",
    "print(\"Accuracy:\", accuracy)"
   ]
  },
  {
   "cell_type": "markdown",
   "id": "1070e135",
   "metadata": {
    "papermill": {
     "duration": 0.014769,
     "end_time": "2023-12-20T12:23:48.686793",
     "exception": false,
     "start_time": "2023-12-20T12:23:48.672024",
     "status": "completed"
    },
    "tags": []
   },
   "source": [
    "After performing 5-fold cross-validation, the obtained results show the accuracy scores for each fold in the form of an array [0.857, 0.8575, 0.8585, 0.857, 0.8495]. The average accuracy across all folds is 0.8559."
   ]
  },
  {
   "cell_type": "markdown",
   "id": "c74b5cd6",
   "metadata": {
    "papermill": {
     "duration": 0.015787,
     "end_time": "2023-12-20T12:23:48.717729",
     "exception": false,
     "start_time": "2023-12-20T12:23:48.701942",
     "status": "completed"
    },
    "tags": []
   },
   "source": [
    "4.1.Cross validation"
   ]
  },
  {
   "cell_type": "code",
   "execution_count": 16,
   "id": "834b6f0a",
   "metadata": {
    "execution": {
     "iopub.execute_input": "2023-12-20T12:23:48.756196Z",
     "iopub.status.busy": "2023-12-20T12:23:48.755277Z",
     "iopub.status.idle": "2023-12-20T12:23:49.756263Z",
     "shell.execute_reply": "2023-12-20T12:23:49.753626Z"
    },
    "papermill": {
     "duration": 1.023241,
     "end_time": "2023-12-20T12:23:49.758574",
     "exception": false,
     "start_time": "2023-12-20T12:23:48.735333",
     "status": "completed"
    },
    "tags": []
   },
   "outputs": [
    {
     "name": "stdout",
     "output_type": "stream",
     "text": [
      "Cross-Validation Scores: [0.8535 0.86   0.854  0.858  0.848 ]\n",
      "Average Accuracy: 0.8547\n"
     ]
    }
   ],
   "source": [
    "from sklearn.model_selection import cross_val_score\n",
    "\n",
    "# Build XGBoost model\n",
    "model = xgb.XGBClassifier()\n",
    "\n",
    "# Running cross-validation\n",
    "scores = cross_val_score(model, X, y, cv=5, scoring='accuracy')\n",
    "\n",
    "# Print cross-validation Score\n",
    "print(\"Cross-Validation Scores:\", scores)\n",
    "print(\"Average Accuracy:\", np.mean(scores))"
   ]
  },
  {
   "cell_type": "markdown",
   "id": "713645c7",
   "metadata": {
    "papermill": {
     "duration": 0.01488,
     "end_time": "2023-12-20T12:23:49.790114",
     "exception": false,
     "start_time": "2023-12-20T12:23:49.775234",
     "status": "completed"
    },
    "tags": []
   },
   "source": [
    "After performing 5-fold cross-validation, the obtained results show the accuracy scores for each fold in the form of an array [0.857, 0.8575, 0.8585, 0.857, 0.8495]. The average accuracy across all folds is 0.8559."
   ]
  },
  {
   "cell_type": "markdown",
   "id": "42b01c77",
   "metadata": {
    "papermill": {
     "duration": 0.014681,
     "end_time": "2023-12-20T12:23:49.819593",
     "exception": false,
     "start_time": "2023-12-20T12:23:49.804912",
     "status": "completed"
    },
    "tags": []
   },
   "source": [
    "4.2 Hyper Parameter Tunning¶\n",
    "4.2.1 Grid Search CV"
   ]
  },
  {
   "cell_type": "code",
   "execution_count": 17,
   "id": "4ce5267a",
   "metadata": {
    "execution": {
     "iopub.execute_input": "2023-12-20T12:23:49.851377Z",
     "iopub.status.busy": "2023-12-20T12:23:49.850951Z",
     "iopub.status.idle": "2023-12-20T12:23:49.856008Z",
     "shell.execute_reply": "2023-12-20T12:23:49.854911Z"
    },
    "papermill": {
     "duration": 0.023986,
     "end_time": "2023-12-20T12:23:49.858493",
     "exception": false,
     "start_time": "2023-12-20T12:23:49.834507",
     "status": "completed"
    },
    "tags": []
   },
   "outputs": [],
   "source": [
    "from sklearn.model_selection import GridSearchCV"
   ]
  },
  {
   "cell_type": "code",
   "execution_count": 18,
   "id": "bcd3abe3",
   "metadata": {
    "execution": {
     "iopub.execute_input": "2023-12-20T12:23:49.901916Z",
     "iopub.status.busy": "2023-12-20T12:23:49.901382Z",
     "iopub.status.idle": "2023-12-20T12:23:49.907656Z",
     "shell.execute_reply": "2023-12-20T12:23:49.906639Z"
    },
    "papermill": {
     "duration": 0.030713,
     "end_time": "2023-12-20T12:23:49.910114",
     "exception": false,
     "start_time": "2023-12-20T12:23:49.879401",
     "status": "completed"
    },
    "tags": []
   },
   "outputs": [],
   "source": [
    "param_grid = {\n",
    "    'max_depth': [3, 4, 5],\n",
    "    'learning_rate': [0.1, 0.01, 0.001],\n",
    "    'n_estimators': [100, 200, 300]\n",
    "}"
   ]
  },
  {
   "cell_type": "code",
   "execution_count": 19,
   "id": "d6f6e6c8",
   "metadata": {
    "execution": {
     "iopub.execute_input": "2023-12-20T12:23:49.944988Z",
     "iopub.status.busy": "2023-12-20T12:23:49.944357Z",
     "iopub.status.idle": "2023-12-20T12:24:18.227948Z",
     "shell.execute_reply": "2023-12-20T12:24:18.226834Z"
    },
    "papermill": {
     "duration": 28.304985,
     "end_time": "2023-12-20T12:24:18.230521",
     "exception": false,
     "start_time": "2023-12-20T12:23:49.925536",
     "status": "completed"
    },
    "tags": []
   },
   "outputs": [
    {
     "data": {
      "text/html": [
       "<style>#sk-container-id-1 {color: black;background-color: white;}#sk-container-id-1 pre{padding: 0;}#sk-container-id-1 div.sk-toggleable {background-color: white;}#sk-container-id-1 label.sk-toggleable__label {cursor: pointer;display: block;width: 100%;margin-bottom: 0;padding: 0.3em;box-sizing: border-box;text-align: center;}#sk-container-id-1 label.sk-toggleable__label-arrow:before {content: \"▸\";float: left;margin-right: 0.25em;color: #696969;}#sk-container-id-1 label.sk-toggleable__label-arrow:hover:before {color: black;}#sk-container-id-1 div.sk-estimator:hover label.sk-toggleable__label-arrow:before {color: black;}#sk-container-id-1 div.sk-toggleable__content {max-height: 0;max-width: 0;overflow: hidden;text-align: left;background-color: #f0f8ff;}#sk-container-id-1 div.sk-toggleable__content pre {margin: 0.2em;color: black;border-radius: 0.25em;background-color: #f0f8ff;}#sk-container-id-1 input.sk-toggleable__control:checked~div.sk-toggleable__content {max-height: 200px;max-width: 100%;overflow: auto;}#sk-container-id-1 input.sk-toggleable__control:checked~label.sk-toggleable__label-arrow:before {content: \"▾\";}#sk-container-id-1 div.sk-estimator input.sk-toggleable__control:checked~label.sk-toggleable__label {background-color: #d4ebff;}#sk-container-id-1 div.sk-label input.sk-toggleable__control:checked~label.sk-toggleable__label {background-color: #d4ebff;}#sk-container-id-1 input.sk-hidden--visually {border: 0;clip: rect(1px 1px 1px 1px);clip: rect(1px, 1px, 1px, 1px);height: 1px;margin: -1px;overflow: hidden;padding: 0;position: absolute;width: 1px;}#sk-container-id-1 div.sk-estimator {font-family: monospace;background-color: #f0f8ff;border: 1px dotted black;border-radius: 0.25em;box-sizing: border-box;margin-bottom: 0.5em;}#sk-container-id-1 div.sk-estimator:hover {background-color: #d4ebff;}#sk-container-id-1 div.sk-parallel-item::after {content: \"\";width: 100%;border-bottom: 1px solid gray;flex-grow: 1;}#sk-container-id-1 div.sk-label:hover label.sk-toggleable__label {background-color: #d4ebff;}#sk-container-id-1 div.sk-serial::before {content: \"\";position: absolute;border-left: 1px solid gray;box-sizing: border-box;top: 0;bottom: 0;left: 50%;z-index: 0;}#sk-container-id-1 div.sk-serial {display: flex;flex-direction: column;align-items: center;background-color: white;padding-right: 0.2em;padding-left: 0.2em;position: relative;}#sk-container-id-1 div.sk-item {position: relative;z-index: 1;}#sk-container-id-1 div.sk-parallel {display: flex;align-items: stretch;justify-content: center;background-color: white;position: relative;}#sk-container-id-1 div.sk-item::before, #sk-container-id-1 div.sk-parallel-item::before {content: \"\";position: absolute;border-left: 1px solid gray;box-sizing: border-box;top: 0;bottom: 0;left: 50%;z-index: -1;}#sk-container-id-1 div.sk-parallel-item {display: flex;flex-direction: column;z-index: 1;position: relative;background-color: white;}#sk-container-id-1 div.sk-parallel-item:first-child::after {align-self: flex-end;width: 50%;}#sk-container-id-1 div.sk-parallel-item:last-child::after {align-self: flex-start;width: 50%;}#sk-container-id-1 div.sk-parallel-item:only-child::after {width: 0;}#sk-container-id-1 div.sk-dashed-wrapped {border: 1px dashed gray;margin: 0 0.4em 0.5em 0.4em;box-sizing: border-box;padding-bottom: 0.4em;background-color: white;}#sk-container-id-1 div.sk-label label {font-family: monospace;font-weight: bold;display: inline-block;line-height: 1.2em;}#sk-container-id-1 div.sk-label-container {text-align: center;}#sk-container-id-1 div.sk-container {/* jupyter's `normalize.less` sets `[hidden] { display: none; }` but bootstrap.min.css set `[hidden] { display: none !important; }` so we also need the `!important` here to be able to override the default hidden behavior on the sphinx rendered scikit-learn.org. See: https://github.com/scikit-learn/scikit-learn/issues/21755 */display: inline-block !important;position: relative;}#sk-container-id-1 div.sk-text-repr-fallback {display: none;}</style><div id=\"sk-container-id-1\" class=\"sk-top-container\"><div class=\"sk-text-repr-fallback\"><pre>GridSearchCV(cv=5,\n",
       "             estimator=XGBClassifier(base_score=None, booster=None,\n",
       "                                     callbacks=None, colsample_bylevel=None,\n",
       "                                     colsample_bynode=None,\n",
       "                                     colsample_bytree=None, device=None,\n",
       "                                     early_stopping_rounds=None,\n",
       "                                     enable_categorical=False, eval_metric=None,\n",
       "                                     feature_types=None, gamma=None,\n",
       "                                     grow_policy=None, importance_type=None,\n",
       "                                     interaction_constraints=None,\n",
       "                                     learning_rate=None,...\n",
       "                                     max_cat_threshold=None,\n",
       "                                     max_cat_to_onehot=None,\n",
       "                                     max_delta_step=None, max_depth=None,\n",
       "                                     max_leaves=None, min_child_weight=None,\n",
       "                                     missing=nan, monotone_constraints=None,\n",
       "                                     multi_strategy=None, n_estimators=None,\n",
       "                                     n_jobs=None, num_parallel_tree=None,\n",
       "                                     random_state=None, ...),\n",
       "             param_grid={&#x27;learning_rate&#x27;: [0.1, 0.01, 0.001],\n",
       "                         &#x27;max_depth&#x27;: [3, 4, 5],\n",
       "                         &#x27;n_estimators&#x27;: [100, 200, 300]},\n",
       "             scoring=&#x27;accuracy&#x27;)</pre><b>In a Jupyter environment, please rerun this cell to show the HTML representation or trust the notebook. <br />On GitHub, the HTML representation is unable to render, please try loading this page with nbviewer.org.</b></div><div class=\"sk-container\" hidden><div class=\"sk-item sk-dashed-wrapped\"><div class=\"sk-label-container\"><div class=\"sk-label sk-toggleable\"><input class=\"sk-toggleable__control sk-hidden--visually\" id=\"sk-estimator-id-1\" type=\"checkbox\" ><label for=\"sk-estimator-id-1\" class=\"sk-toggleable__label sk-toggleable__label-arrow\">GridSearchCV</label><div class=\"sk-toggleable__content\"><pre>GridSearchCV(cv=5,\n",
       "             estimator=XGBClassifier(base_score=None, booster=None,\n",
       "                                     callbacks=None, colsample_bylevel=None,\n",
       "                                     colsample_bynode=None,\n",
       "                                     colsample_bytree=None, device=None,\n",
       "                                     early_stopping_rounds=None,\n",
       "                                     enable_categorical=False, eval_metric=None,\n",
       "                                     feature_types=None, gamma=None,\n",
       "                                     grow_policy=None, importance_type=None,\n",
       "                                     interaction_constraints=None,\n",
       "                                     learning_rate=None,...\n",
       "                                     max_cat_threshold=None,\n",
       "                                     max_cat_to_onehot=None,\n",
       "                                     max_delta_step=None, max_depth=None,\n",
       "                                     max_leaves=None, min_child_weight=None,\n",
       "                                     missing=nan, monotone_constraints=None,\n",
       "                                     multi_strategy=None, n_estimators=None,\n",
       "                                     n_jobs=None, num_parallel_tree=None,\n",
       "                                     random_state=None, ...),\n",
       "             param_grid={&#x27;learning_rate&#x27;: [0.1, 0.01, 0.001],\n",
       "                         &#x27;max_depth&#x27;: [3, 4, 5],\n",
       "                         &#x27;n_estimators&#x27;: [100, 200, 300]},\n",
       "             scoring=&#x27;accuracy&#x27;)</pre></div></div></div><div class=\"sk-parallel\"><div class=\"sk-parallel-item\"><div class=\"sk-item\"><div class=\"sk-label-container\"><div class=\"sk-label sk-toggleable\"><input class=\"sk-toggleable__control sk-hidden--visually\" id=\"sk-estimator-id-2\" type=\"checkbox\" ><label for=\"sk-estimator-id-2\" class=\"sk-toggleable__label sk-toggleable__label-arrow\">estimator: XGBClassifier</label><div class=\"sk-toggleable__content\"><pre>XGBClassifier(base_score=None, booster=None, callbacks=None,\n",
       "              colsample_bylevel=None, colsample_bynode=None,\n",
       "              colsample_bytree=None, device=None, early_stopping_rounds=None,\n",
       "              enable_categorical=False, eval_metric=None, feature_types=None,\n",
       "              gamma=None, grow_policy=None, importance_type=None,\n",
       "              interaction_constraints=None, learning_rate=None, max_bin=None,\n",
       "              max_cat_threshold=None, max_cat_to_onehot=None,\n",
       "              max_delta_step=None, max_depth=None, max_leaves=None,\n",
       "              min_child_weight=None, missing=nan, monotone_constraints=None,\n",
       "              multi_strategy=None, n_estimators=None, n_jobs=None,\n",
       "              num_parallel_tree=None, random_state=None, ...)</pre></div></div></div><div class=\"sk-serial\"><div class=\"sk-item\"><div class=\"sk-estimator sk-toggleable\"><input class=\"sk-toggleable__control sk-hidden--visually\" id=\"sk-estimator-id-3\" type=\"checkbox\" ><label for=\"sk-estimator-id-3\" class=\"sk-toggleable__label sk-toggleable__label-arrow\">XGBClassifier</label><div class=\"sk-toggleable__content\"><pre>XGBClassifier(base_score=None, booster=None, callbacks=None,\n",
       "              colsample_bylevel=None, colsample_bynode=None,\n",
       "              colsample_bytree=None, device=None, early_stopping_rounds=None,\n",
       "              enable_categorical=False, eval_metric=None, feature_types=None,\n",
       "              gamma=None, grow_policy=None, importance_type=None,\n",
       "              interaction_constraints=None, learning_rate=None, max_bin=None,\n",
       "              max_cat_threshold=None, max_cat_to_onehot=None,\n",
       "              max_delta_step=None, max_depth=None, max_leaves=None,\n",
       "              min_child_weight=None, missing=nan, monotone_constraints=None,\n",
       "              multi_strategy=None, n_estimators=None, n_jobs=None,\n",
       "              num_parallel_tree=None, random_state=None, ...)</pre></div></div></div></div></div></div></div></div></div></div>"
      ],
      "text/plain": [
       "GridSearchCV(cv=5,\n",
       "             estimator=XGBClassifier(base_score=None, booster=None,\n",
       "                                     callbacks=None, colsample_bylevel=None,\n",
       "                                     colsample_bynode=None,\n",
       "                                     colsample_bytree=None, device=None,\n",
       "                                     early_stopping_rounds=None,\n",
       "                                     enable_categorical=False, eval_metric=None,\n",
       "                                     feature_types=None, gamma=None,\n",
       "                                     grow_policy=None, importance_type=None,\n",
       "                                     interaction_constraints=None,\n",
       "                                     learning_rate=None,...\n",
       "                                     max_cat_threshold=None,\n",
       "                                     max_cat_to_onehot=None,\n",
       "                                     max_delta_step=None, max_depth=None,\n",
       "                                     max_leaves=None, min_child_weight=None,\n",
       "                                     missing=nan, monotone_constraints=None,\n",
       "                                     multi_strategy=None, n_estimators=None,\n",
       "                                     n_jobs=None, num_parallel_tree=None,\n",
       "                                     random_state=None, ...),\n",
       "             param_grid={'learning_rate': [0.1, 0.01, 0.001],\n",
       "                         'max_depth': [3, 4, 5],\n",
       "                         'n_estimators': [100, 200, 300]},\n",
       "             scoring='accuracy')"
      ]
     },
     "execution_count": 19,
     "metadata": {},
     "output_type": "execute_result"
    }
   ],
   "source": [
    "grid_search = GridSearchCV(model, param_grid, cv=5, scoring='accuracy')\n",
    "grid_search.fit(X_train, y_train)"
   ]
  },
  {
   "cell_type": "code",
   "execution_count": 20,
   "id": "01c27f35",
   "metadata": {
    "execution": {
     "iopub.execute_input": "2023-12-20T12:24:18.264763Z",
     "iopub.status.busy": "2023-12-20T12:24:18.263595Z",
     "iopub.status.idle": "2023-12-20T12:24:18.272361Z",
     "shell.execute_reply": "2023-12-20T12:24:18.271245Z"
    },
    "papermill": {
     "duration": 0.028494,
     "end_time": "2023-12-20T12:24:18.274963",
     "exception": false,
     "start_time": "2023-12-20T12:24:18.246469",
     "status": "completed"
    },
    "tags": []
   },
   "outputs": [
    {
     "name": "stdout",
     "output_type": "stream",
     "text": [
      "Best Parameters:  {'learning_rate': 0.1, 'max_depth': 4, 'n_estimators': 100}\n",
      "Best Cross-Validation Score:  0.8594285714285714\n"
     ]
    }
   ],
   "source": [
    "# Print Best Parameter\n",
    "print(\"Best Parameters: \", grid_search.best_params_)\n",
    "\n",
    "# Print Best Cross Validation Score\n",
    "print(\"Best Cross-Validation Score: \", grid_search.best_score_)"
   ]
  },
  {
   "cell_type": "code",
   "execution_count": 21,
   "id": "9b58957a",
   "metadata": {
    "execution": {
     "iopub.execute_input": "2023-12-20T12:24:18.309688Z",
     "iopub.status.busy": "2023-12-20T12:24:18.308686Z",
     "iopub.status.idle": "2023-12-20T12:24:18.330114Z",
     "shell.execute_reply": "2023-12-20T12:24:18.329046Z"
    },
    "papermill": {
     "duration": 0.041448,
     "end_time": "2023-12-20T12:24:18.332938",
     "exception": false,
     "start_time": "2023-12-20T12:24:18.291490",
     "status": "completed"
    },
    "tags": []
   },
   "outputs": [],
   "source": [
    "best_model = grid_search.best_estimator_\n",
    "\n",
    "y_train_pred = best_model.predict(X_train)\n",
    "y_test_pred = best_model.predict(X_test)"
   ]
  },
  {
   "cell_type": "code",
   "execution_count": 22,
   "id": "17470253",
   "metadata": {
    "execution": {
     "iopub.execute_input": "2023-12-20T12:24:18.368123Z",
     "iopub.status.busy": "2023-12-20T12:24:18.367659Z",
     "iopub.status.idle": "2023-12-20T12:24:18.426506Z",
     "shell.execute_reply": "2023-12-20T12:24:18.425042Z"
    },
    "papermill": {
     "duration": 0.079528,
     "end_time": "2023-12-20T12:24:18.430044",
     "exception": false,
     "start_time": "2023-12-20T12:24:18.350516",
     "status": "completed"
    },
    "tags": []
   },
   "outputs": [
    {
     "name": "stdout",
     "output_type": "stream",
     "text": [
      "Training\n",
      "Accuracy on Test Data:  0.8778571428571429\n",
      "              precision    recall  f1-score   support\n",
      "\n",
      "           0       0.88      0.97      0.93      5547\n",
      "           1       0.83      0.52      0.64      1453\n",
      "\n",
      "    accuracy                           0.88      7000\n",
      "   macro avg       0.86      0.74      0.78      7000\n",
      "weighted avg       0.87      0.88      0.87      7000\n",
      "\n",
      "\n",
      "Testing\n",
      "Accuracy on Test Data:  0.8713333333333333\n",
      "              precision    recall  f1-score   support\n",
      "\n",
      "           0       0.88      0.97      0.92      2416\n",
      "           1       0.78      0.47      0.59       584\n",
      "\n",
      "    accuracy                           0.87      3000\n",
      "   macro avg       0.83      0.72      0.76      3000\n",
      "weighted avg       0.86      0.87      0.86      3000\n",
      "\n"
     ]
    }
   ],
   "source": [
    "print ('Training')\n",
    "# Evaluate best model testing\n",
    "best_model = grid_search.best_estimator_\n",
    "accuracy = best_model.score(X_train, y_train)\n",
    "print(\"Accuracy on Test Data: \", accuracy)\n",
    "print(classification_report(y_train, y_train_pred))\n",
    "\n",
    "print ('')\n",
    "\n",
    "print ('Testing')\n",
    "# Evaluate best model testing\n",
    "accuracy = best_model.score(X_test, y_test)\n",
    "print(\"Accuracy on Test Data: \", accuracy)\n",
    "print(classification_report(y_test, y_test_pred))"
   ]
  },
  {
   "cell_type": "markdown",
   "id": "918c7181",
   "metadata": {
    "papermill": {
     "duration": 0.016874,
     "end_time": "2023-12-20T12:24:18.463675",
     "exception": false,
     "start_time": "2023-12-20T12:24:18.446801",
     "status": "completed"
    },
    "tags": []
   },
   "source": [
    "In Hyperparameter tuning using Grid Search CV, improvements in accuracy were achieved for both the training and testing data. The accuracy on the training data increased to 0.8765714285714286, while the accuracy on the testing data reached 0.8733333333333333.\n",
    "\n",
    "These results indicate that the enhanced model, utilizing the best hyperparameters obtained from GridSearchCV, outperforms the default model."
   ]
  },
  {
   "cell_type": "markdown",
   "id": "4cacaf9b",
   "metadata": {
    "papermill": {
     "duration": 0.015807,
     "end_time": "2023-12-20T12:24:18.497372",
     "exception": false,
     "start_time": "2023-12-20T12:24:18.481565",
     "status": "completed"
    },
    "tags": []
   },
   "source": [
    "4.2.2 Randomized Search CV"
   ]
  },
  {
   "cell_type": "code",
   "execution_count": 23,
   "id": "78db1e1c",
   "metadata": {
    "execution": {
     "iopub.execute_input": "2023-12-20T12:24:18.532842Z",
     "iopub.status.busy": "2023-12-20T12:24:18.532146Z",
     "iopub.status.idle": "2023-12-20T12:24:18.537112Z",
     "shell.execute_reply": "2023-12-20T12:24:18.535940Z"
    },
    "papermill": {
     "duration": 0.025766,
     "end_time": "2023-12-20T12:24:18.539603",
     "exception": false,
     "start_time": "2023-12-20T12:24:18.513837",
     "status": "completed"
    },
    "tags": []
   },
   "outputs": [],
   "source": [
    "from sklearn.model_selection import RandomizedSearchCV"
   ]
  },
  {
   "cell_type": "code",
   "execution_count": 24,
   "id": "aa776f5f",
   "metadata": {
    "execution": {
     "iopub.execute_input": "2023-12-20T12:24:18.573677Z",
     "iopub.status.busy": "2023-12-20T12:24:18.573254Z",
     "iopub.status.idle": "2023-12-20T12:24:18.579020Z",
     "shell.execute_reply": "2023-12-20T12:24:18.578015Z"
    },
    "papermill": {
     "duration": 0.025435,
     "end_time": "2023-12-20T12:24:18.581289",
     "exception": false,
     "start_time": "2023-12-20T12:24:18.555854",
     "status": "completed"
    },
    "tags": []
   },
   "outputs": [],
   "source": [
    "param_grid = {\n",
    "    'max_depth': np.arange(3, 6),\n",
    "    'learning_rate': [0.1, 0.01, 0.001],\n",
    "    'n_estimators': np.arange(100, 301, 100)\n",
    "}"
   ]
  },
  {
   "cell_type": "code",
   "execution_count": 25,
   "id": "2d1a8150",
   "metadata": {
    "execution": {
     "iopub.execute_input": "2023-12-20T12:24:18.616096Z",
     "iopub.status.busy": "2023-12-20T12:24:18.615431Z",
     "iopub.status.idle": "2023-12-20T12:24:28.577891Z",
     "shell.execute_reply": "2023-12-20T12:24:28.576723Z"
    },
    "papermill": {
     "duration": 9.983595,
     "end_time": "2023-12-20T12:24:28.581439",
     "exception": false,
     "start_time": "2023-12-20T12:24:18.597844",
     "status": "completed"
    },
    "tags": []
   },
   "outputs": [
    {
     "data": {
      "text/html": [
       "<style>#sk-container-id-2 {color: black;background-color: white;}#sk-container-id-2 pre{padding: 0;}#sk-container-id-2 div.sk-toggleable {background-color: white;}#sk-container-id-2 label.sk-toggleable__label {cursor: pointer;display: block;width: 100%;margin-bottom: 0;padding: 0.3em;box-sizing: border-box;text-align: center;}#sk-container-id-2 label.sk-toggleable__label-arrow:before {content: \"▸\";float: left;margin-right: 0.25em;color: #696969;}#sk-container-id-2 label.sk-toggleable__label-arrow:hover:before {color: black;}#sk-container-id-2 div.sk-estimator:hover label.sk-toggleable__label-arrow:before {color: black;}#sk-container-id-2 div.sk-toggleable__content {max-height: 0;max-width: 0;overflow: hidden;text-align: left;background-color: #f0f8ff;}#sk-container-id-2 div.sk-toggleable__content pre {margin: 0.2em;color: black;border-radius: 0.25em;background-color: #f0f8ff;}#sk-container-id-2 input.sk-toggleable__control:checked~div.sk-toggleable__content {max-height: 200px;max-width: 100%;overflow: auto;}#sk-container-id-2 input.sk-toggleable__control:checked~label.sk-toggleable__label-arrow:before {content: \"▾\";}#sk-container-id-2 div.sk-estimator input.sk-toggleable__control:checked~label.sk-toggleable__label {background-color: #d4ebff;}#sk-container-id-2 div.sk-label input.sk-toggleable__control:checked~label.sk-toggleable__label {background-color: #d4ebff;}#sk-container-id-2 input.sk-hidden--visually {border: 0;clip: rect(1px 1px 1px 1px);clip: rect(1px, 1px, 1px, 1px);height: 1px;margin: -1px;overflow: hidden;padding: 0;position: absolute;width: 1px;}#sk-container-id-2 div.sk-estimator {font-family: monospace;background-color: #f0f8ff;border: 1px dotted black;border-radius: 0.25em;box-sizing: border-box;margin-bottom: 0.5em;}#sk-container-id-2 div.sk-estimator:hover {background-color: #d4ebff;}#sk-container-id-2 div.sk-parallel-item::after {content: \"\";width: 100%;border-bottom: 1px solid gray;flex-grow: 1;}#sk-container-id-2 div.sk-label:hover label.sk-toggleable__label {background-color: #d4ebff;}#sk-container-id-2 div.sk-serial::before {content: \"\";position: absolute;border-left: 1px solid gray;box-sizing: border-box;top: 0;bottom: 0;left: 50%;z-index: 0;}#sk-container-id-2 div.sk-serial {display: flex;flex-direction: column;align-items: center;background-color: white;padding-right: 0.2em;padding-left: 0.2em;position: relative;}#sk-container-id-2 div.sk-item {position: relative;z-index: 1;}#sk-container-id-2 div.sk-parallel {display: flex;align-items: stretch;justify-content: center;background-color: white;position: relative;}#sk-container-id-2 div.sk-item::before, #sk-container-id-2 div.sk-parallel-item::before {content: \"\";position: absolute;border-left: 1px solid gray;box-sizing: border-box;top: 0;bottom: 0;left: 50%;z-index: -1;}#sk-container-id-2 div.sk-parallel-item {display: flex;flex-direction: column;z-index: 1;position: relative;background-color: white;}#sk-container-id-2 div.sk-parallel-item:first-child::after {align-self: flex-end;width: 50%;}#sk-container-id-2 div.sk-parallel-item:last-child::after {align-self: flex-start;width: 50%;}#sk-container-id-2 div.sk-parallel-item:only-child::after {width: 0;}#sk-container-id-2 div.sk-dashed-wrapped {border: 1px dashed gray;margin: 0 0.4em 0.5em 0.4em;box-sizing: border-box;padding-bottom: 0.4em;background-color: white;}#sk-container-id-2 div.sk-label label {font-family: monospace;font-weight: bold;display: inline-block;line-height: 1.2em;}#sk-container-id-2 div.sk-label-container {text-align: center;}#sk-container-id-2 div.sk-container {/* jupyter's `normalize.less` sets `[hidden] { display: none; }` but bootstrap.min.css set `[hidden] { display: none !important; }` so we also need the `!important` here to be able to override the default hidden behavior on the sphinx rendered scikit-learn.org. See: https://github.com/scikit-learn/scikit-learn/issues/21755 */display: inline-block !important;position: relative;}#sk-container-id-2 div.sk-text-repr-fallback {display: none;}</style><div id=\"sk-container-id-2\" class=\"sk-top-container\"><div class=\"sk-text-repr-fallback\"><pre>RandomizedSearchCV(cv=5,\n",
       "                   estimator=XGBClassifier(base_score=None, booster=None,\n",
       "                                           callbacks=None,\n",
       "                                           colsample_bylevel=None,\n",
       "                                           colsample_bynode=None,\n",
       "                                           colsample_bytree=None, device=None,\n",
       "                                           early_stopping_rounds=None,\n",
       "                                           enable_categorical=False,\n",
       "                                           eval_metric=None, feature_types=None,\n",
       "                                           gamma=None, grow_policy=None,\n",
       "                                           importance_type=None,\n",
       "                                           interaction_constraints=None,\n",
       "                                           learning_rate...\n",
       "                                           max_cat_to_onehot=None,\n",
       "                                           max_delta_step=None, max_depth=None,\n",
       "                                           max_leaves=None,\n",
       "                                           min_child_weight=None, missing=nan,\n",
       "                                           monotone_constraints=None,\n",
       "                                           multi_strategy=None,\n",
       "                                           n_estimators=None, n_jobs=None,\n",
       "                                           num_parallel_tree=None,\n",
       "                                           random_state=None, ...),\n",
       "                   param_distributions={&#x27;learning_rate&#x27;: [0.1, 0.01, 0.001],\n",
       "                                        &#x27;max_depth&#x27;: array([3, 4, 5]),\n",
       "                                        &#x27;n_estimators&#x27;: array([100, 200, 300])},\n",
       "                   scoring=&#x27;accuracy&#x27;)</pre><b>In a Jupyter environment, please rerun this cell to show the HTML representation or trust the notebook. <br />On GitHub, the HTML representation is unable to render, please try loading this page with nbviewer.org.</b></div><div class=\"sk-container\" hidden><div class=\"sk-item sk-dashed-wrapped\"><div class=\"sk-label-container\"><div class=\"sk-label sk-toggleable\"><input class=\"sk-toggleable__control sk-hidden--visually\" id=\"sk-estimator-id-4\" type=\"checkbox\" ><label for=\"sk-estimator-id-4\" class=\"sk-toggleable__label sk-toggleable__label-arrow\">RandomizedSearchCV</label><div class=\"sk-toggleable__content\"><pre>RandomizedSearchCV(cv=5,\n",
       "                   estimator=XGBClassifier(base_score=None, booster=None,\n",
       "                                           callbacks=None,\n",
       "                                           colsample_bylevel=None,\n",
       "                                           colsample_bynode=None,\n",
       "                                           colsample_bytree=None, device=None,\n",
       "                                           early_stopping_rounds=None,\n",
       "                                           enable_categorical=False,\n",
       "                                           eval_metric=None, feature_types=None,\n",
       "                                           gamma=None, grow_policy=None,\n",
       "                                           importance_type=None,\n",
       "                                           interaction_constraints=None,\n",
       "                                           learning_rate...\n",
       "                                           max_cat_to_onehot=None,\n",
       "                                           max_delta_step=None, max_depth=None,\n",
       "                                           max_leaves=None,\n",
       "                                           min_child_weight=None, missing=nan,\n",
       "                                           monotone_constraints=None,\n",
       "                                           multi_strategy=None,\n",
       "                                           n_estimators=None, n_jobs=None,\n",
       "                                           num_parallel_tree=None,\n",
       "                                           random_state=None, ...),\n",
       "                   param_distributions={&#x27;learning_rate&#x27;: [0.1, 0.01, 0.001],\n",
       "                                        &#x27;max_depth&#x27;: array([3, 4, 5]),\n",
       "                                        &#x27;n_estimators&#x27;: array([100, 200, 300])},\n",
       "                   scoring=&#x27;accuracy&#x27;)</pre></div></div></div><div class=\"sk-parallel\"><div class=\"sk-parallel-item\"><div class=\"sk-item\"><div class=\"sk-label-container\"><div class=\"sk-label sk-toggleable\"><input class=\"sk-toggleable__control sk-hidden--visually\" id=\"sk-estimator-id-5\" type=\"checkbox\" ><label for=\"sk-estimator-id-5\" class=\"sk-toggleable__label sk-toggleable__label-arrow\">estimator: XGBClassifier</label><div class=\"sk-toggleable__content\"><pre>XGBClassifier(base_score=None, booster=None, callbacks=None,\n",
       "              colsample_bylevel=None, colsample_bynode=None,\n",
       "              colsample_bytree=None, device=None, early_stopping_rounds=None,\n",
       "              enable_categorical=False, eval_metric=None, feature_types=None,\n",
       "              gamma=None, grow_policy=None, importance_type=None,\n",
       "              interaction_constraints=None, learning_rate=None, max_bin=None,\n",
       "              max_cat_threshold=None, max_cat_to_onehot=None,\n",
       "              max_delta_step=None, max_depth=None, max_leaves=None,\n",
       "              min_child_weight=None, missing=nan, monotone_constraints=None,\n",
       "              multi_strategy=None, n_estimators=None, n_jobs=None,\n",
       "              num_parallel_tree=None, random_state=None, ...)</pre></div></div></div><div class=\"sk-serial\"><div class=\"sk-item\"><div class=\"sk-estimator sk-toggleable\"><input class=\"sk-toggleable__control sk-hidden--visually\" id=\"sk-estimator-id-6\" type=\"checkbox\" ><label for=\"sk-estimator-id-6\" class=\"sk-toggleable__label sk-toggleable__label-arrow\">XGBClassifier</label><div class=\"sk-toggleable__content\"><pre>XGBClassifier(base_score=None, booster=None, callbacks=None,\n",
       "              colsample_bylevel=None, colsample_bynode=None,\n",
       "              colsample_bytree=None, device=None, early_stopping_rounds=None,\n",
       "              enable_categorical=False, eval_metric=None, feature_types=None,\n",
       "              gamma=None, grow_policy=None, importance_type=None,\n",
       "              interaction_constraints=None, learning_rate=None, max_bin=None,\n",
       "              max_cat_threshold=None, max_cat_to_onehot=None,\n",
       "              max_delta_step=None, max_depth=None, max_leaves=None,\n",
       "              min_child_weight=None, missing=nan, monotone_constraints=None,\n",
       "              multi_strategy=None, n_estimators=None, n_jobs=None,\n",
       "              num_parallel_tree=None, random_state=None, ...)</pre></div></div></div></div></div></div></div></div></div></div>"
      ],
      "text/plain": [
       "RandomizedSearchCV(cv=5,\n",
       "                   estimator=XGBClassifier(base_score=None, booster=None,\n",
       "                                           callbacks=None,\n",
       "                                           colsample_bylevel=None,\n",
       "                                           colsample_bynode=None,\n",
       "                                           colsample_bytree=None, device=None,\n",
       "                                           early_stopping_rounds=None,\n",
       "                                           enable_categorical=False,\n",
       "                                           eval_metric=None, feature_types=None,\n",
       "                                           gamma=None, grow_policy=None,\n",
       "                                           importance_type=None,\n",
       "                                           interaction_constraints=None,\n",
       "                                           learning_rate...\n",
       "                                           max_cat_to_onehot=None,\n",
       "                                           max_delta_step=None, max_depth=None,\n",
       "                                           max_leaves=None,\n",
       "                                           min_child_weight=None, missing=nan,\n",
       "                                           monotone_constraints=None,\n",
       "                                           multi_strategy=None,\n",
       "                                           n_estimators=None, n_jobs=None,\n",
       "                                           num_parallel_tree=None,\n",
       "                                           random_state=None, ...),\n",
       "                   param_distributions={'learning_rate': [0.1, 0.01, 0.001],\n",
       "                                        'max_depth': array([3, 4, 5]),\n",
       "                                        'n_estimators': array([100, 200, 300])},\n",
       "                   scoring='accuracy')"
      ]
     },
     "execution_count": 25,
     "metadata": {},
     "output_type": "execute_result"
    }
   ],
   "source": [
    "# Buat objek RandomizedSearchCV\n",
    "rs = RandomizedSearchCV(model, param_distributions=param_grid, cv=5, scoring='accuracy', n_iter=10)\n",
    "rs.fit(X_train, y_train)"
   ]
  },
  {
   "cell_type": "code",
   "execution_count": 26,
   "id": "72f16e39",
   "metadata": {
    "execution": {
     "iopub.execute_input": "2023-12-20T12:24:28.615900Z",
     "iopub.status.busy": "2023-12-20T12:24:28.615482Z",
     "iopub.status.idle": "2023-12-20T12:24:28.621360Z",
     "shell.execute_reply": "2023-12-20T12:24:28.620399Z"
    },
    "papermill": {
     "duration": 0.025991,
     "end_time": "2023-12-20T12:24:28.624024",
     "exception": false,
     "start_time": "2023-12-20T12:24:28.598033",
     "status": "completed"
    },
    "tags": []
   },
   "outputs": [
    {
     "name": "stdout",
     "output_type": "stream",
     "text": [
      "Best Parameters:  {'n_estimators': 300, 'max_depth': 3, 'learning_rate': 0.1}\n",
      "Best Cross-Validation Score:  0.8562857142857142\n"
     ]
    }
   ],
   "source": [
    "# Print Best Parameter\n",
    "print(\"Best Parameters: \", rs.best_params_)\n",
    "# Print Best Cross Validation Score\n",
    "print(\"Best Cross-Validation Score: \", rs.best_score_)"
   ]
  },
  {
   "cell_type": "code",
   "execution_count": 27,
   "id": "5a97ec60",
   "metadata": {
    "execution": {
     "iopub.execute_input": "2023-12-20T12:24:28.659142Z",
     "iopub.status.busy": "2023-12-20T12:24:28.658725Z",
     "iopub.status.idle": "2023-12-20T12:24:28.725421Z",
     "shell.execute_reply": "2023-12-20T12:24:28.724154Z"
    },
    "papermill": {
     "duration": 0.08851,
     "end_time": "2023-12-20T12:24:28.729020",
     "exception": false,
     "start_time": "2023-12-20T12:24:28.640510",
     "status": "completed"
    },
    "tags": []
   },
   "outputs": [
    {
     "name": "stdout",
     "output_type": "stream",
     "text": [
      "Training\n",
      "Accuracy on Test Data:  0.8807142857142857\n",
      "              precision    recall  f1-score   support\n",
      "\n",
      "           0       0.88      0.97      0.93      5547\n",
      "           1       0.83      0.52      0.64      1453\n",
      "\n",
      "    accuracy                           0.88      7000\n",
      "   macro avg       0.86      0.74      0.78      7000\n",
      "weighted avg       0.87      0.88      0.87      7000\n",
      "\n",
      "\n",
      "Testing\n",
      "Accuracy on Test Data:  0.8713333333333333\n",
      "              precision    recall  f1-score   support\n",
      "\n",
      "           0       0.88      0.97      0.92      2416\n",
      "           1       0.78      0.47      0.59       584\n",
      "\n",
      "    accuracy                           0.87      3000\n",
      "   macro avg       0.83      0.72      0.76      3000\n",
      "weighted avg       0.86      0.87      0.86      3000\n",
      "\n"
     ]
    }
   ],
   "source": [
    "print ('Training')\n",
    "# Evaluate best model testing\n",
    "best_model = rs.best_estimator_\n",
    "accuracy = best_model.score(X_train, y_train)\n",
    "print(\"Accuracy on Test Data: \", accuracy)\n",
    "print(classification_report(y_train, y_train_pred))\n",
    "\n",
    "print ('')\n",
    "\n",
    "print ('Testing')\n",
    "# Evaluate best model testing\n",
    "accuracy = best_model.score(X_test, y_test)\n",
    "print(\"Accuracy on Test Data: \", accuracy)\n",
    "print(classification_report(y_test, y_test_pred))"
   ]
  }
 ],
 "metadata": {
  "kaggle": {
   "accelerator": "none",
   "dataSources": [
    {
     "datasetId": 4198030,
     "sourceId": 7246650,
     "sourceType": "datasetVersion"
    }
   ],
   "dockerImageVersionId": 30626,
   "isGpuEnabled": false,
   "isInternetEnabled": true,
   "language": "python",
   "sourceType": "notebook"
  },
  "kernelspec": {
   "display_name": "Python 3",
   "language": "python",
   "name": "python3"
  },
  "language_info": {
   "codemirror_mode": {
    "name": "ipython",
    "version": 3
   },
   "file_extension": ".py",
   "mimetype": "text/x-python",
   "name": "python",
   "nbconvert_exporter": "python",
   "pygments_lexer": "ipython3",
   "version": "3.10.12"
  },
  "papermill": {
   "default_parameters": {},
   "duration": 50.243281,
   "end_time": "2023-12-20T12:24:29.367503",
   "environment_variables": {},
   "exception": null,
   "input_path": "__notebook__.ipynb",
   "output_path": "__notebook__.ipynb",
   "parameters": {},
   "start_time": "2023-12-20T12:23:39.124222",
   "version": "2.4.0"
  }
 },
 "nbformat": 4,
 "nbformat_minor": 5
}
